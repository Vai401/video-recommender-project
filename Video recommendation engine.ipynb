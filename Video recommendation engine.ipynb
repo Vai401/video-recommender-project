{
 "cells": [
  {
   "cell_type": "code",
   "execution_count": 47,
   "id": "cecc6e1c-8f52-4cb9-9875-7b7736c3bcfd",
   "metadata": {},
   "outputs": [],
   "source": [
    "import pandas as pd\n",
    "import tensorflow as tf\n",
    "import tensorflow_recommenders as tfrs\n",
    "from tensorflow.keras import layers\n",
    "\n",
    "# Sample interaction data\n",
    "data = {\n",
    "    'user_id': ['U1', 'U2', 'U3', 'U1', 'U2', 'U3'],\n",
    "    'video_id': ['V1', 'V2', 'V3', 'V4', 'V1', 'V5'],\n",
    "    'liked': [1, 0, 1, 1, 0, 1]  # Binary interaction as a list\n",
    "}\n",
    "\n",
    "# Create a DataFrame\n",
    "interaction_df = pd.DataFrame(data)\n",
    "\n",
    "# Prepare unique user IDs and video IDs\n",
    "user_ids = interaction_df['user_id'].unique()\n",
    "video_ids = interaction_df['video_id'].unique()\n",
    "\n",
    "# Create lookup layers for user IDs and video IDs\n",
    "user_lookup = layers.StringLookup(vocabulary=user_ids, mask_token=None)\n",
    "video_lookup = layers.StringLookup(vocabulary=video_ids, mask_token=None)"
   ]
  },
  {
   "cell_type": "code",
   "execution_count": 49,
   "id": "b5826869-13ae-44e5-9a10-1b3907eead27",
   "metadata": {},
   "outputs": [],
   "source": [
    "# Define the recommendation model\n",
    "class VideoRecommendationModel(tfrs.Model):\n",
    "    def __init__(self):\n",
    "        super().__init__()\n",
    "        # Defining the user and video embeddings\n",
    "        self.user_embedding = layers.Embedding(user_lookup.vocabulary_size(), 32)\n",
    "        self.video_embedding = layers.Embedding(video_lookup.vocabulary_size(), 32)\n",
    "\n",
    "    # Implementing the compute_loss method\n",
    "    def compute_loss(self, features, training=False):\n",
    "        # Lookup user and video IDs\n",
    "        user_ids = user_lookup(features['user_id'])\n",
    "        video_ids = video_lookup(features['video_id'])\n",
    "\n",
    "        # Get the embeddings for user and video IDs\n",
    "        user_embedding = self.user_embedding(user_ids)\n",
    "        video_embedding = self.video_embedding(video_ids)\n",
    "        \n",
    "        # Calculate the binary cross-entropy loss\n",
    "        return tf.reduce_mean(tf.keras.losses.binary_crossentropy(video_embedding, user_embedding))"
   ]
  },
  {
   "cell_type": "code",
   "execution_count": 50,
   "id": "b1509be2-4932-481e-83cf-cc5f7ff138da",
   "metadata": {},
   "outputs": [
    {
     "name": "stdout",
     "output_type": "stream",
     "text": [
      "Epoch 1/5\n",
      "3/3 [==============================] - 1s 4ms/step - loss: -0.1140 - regularization_loss: 0.0000e+00 - total_loss: -0.1140\n",
      "Epoch 2/5\n",
      "3/3 [==============================] - 0s 13ms/step - loss: -0.9194 - regularization_loss: 0.0000e+00 - total_loss: -0.9194\n",
      "Epoch 3/5\n",
      "3/3 [==============================] - 0s 10ms/step - loss: -1.8158 - regularization_loss: 0.0000e+00 - total_loss: -1.8158\n",
      "Epoch 4/5\n",
      "3/3 [==============================] - 0s 9ms/step - loss: -2.7558 - regularization_loss: 0.0000e+00 - total_loss: -2.7558\n",
      "Epoch 5/5\n",
      "3/3 [==============================] - 0s 18ms/step - loss: -3.5796 - regularization_loss: 0.0000e+00 - total_loss: -3.5796\n"
     ]
    },
    {
     "data": {
      "text/plain": [
       "<keras.callbacks.History at 0x2bcdabc83d0>"
      ]
     },
     "execution_count": 50,
     "metadata": {},
     "output_type": "execute_result"
    }
   ],
   "source": [
    "# Convert interaction data to TensorFlow dataset\n",
    "train_data = tf.data.Dataset.from_tensor_slices({\n",
    "    'user_id': interaction_df['user_id'].astype(str).values,\n",
    "    'video_id': interaction_df['video_id'].astype(str).values,\n",
    "}).batch(2)  # Batch size can be adjusted as needed\n",
    "\n",
    "# Instantiate the model\n",
    "model = VideoRecommendationModel()\n",
    "\n",
    "# Compile the model with an optimizer\n",
    "model.compile(optimizer=tf.keras.optimizers.Adagrad(learning_rate=0.1))\n",
    "\n",
    "# Train the model\n",
    "model.fit(train_data, epochs=5)\n"
   ]
  },
  {
   "cell_type": "code",
   "execution_count": 51,
   "id": "42e45e22-01e5-4add-9d82-8359276ebf29",
   "metadata": {},
   "outputs": [],
   "source": [
    "# Function to recommend videos for a given user ID\n",
    "def recommend_videos(user_id, num_recommendations=3):\n",
    "    # Ensure the user_id is in string format and convert to index\n",
    "    user_vector = user_lookup(tf.convert_to_tensor([user_id], dtype=tf.string))\n",
    "    \n",
    "    # Get video IDs as tensor and their embeddings\n",
    "    video_ids_tensor = video_lookup(tf.convert_to_tensor(video_ids, dtype=tf.string))\n",
    "    video_vectors = model.video_embedding(video_ids_tensor)\n",
    "\n",
    "    # Manage shape for user_vector\n",
    "    user_vector = tf.expand_dims(user_vector, axis=0)  # Shape (1,)\n",
    "\n",
    "    # Calculate scores between user and video embeddings\n",
    "    scores = tf.matmul(model.user_embedding(user_vector), video_vectors, transpose_b=True)\n",
    "\n",
    "    # Get the indices of the top recommendations\n",
    "    video_indices = tf.argsort(scores, axis=1, direction='DESCENDING')\n",
    "\n",
    "    return video_ids[video_indices.numpy()[0][:num_recommendations]]\n"
   ]
  },
  {
   "cell_type": "code",
   "execution_count": 52,
   "id": "bd87b510-c9be-48e7-bc67-15278b1efac6",
   "metadata": {},
   "outputs": [
    {
     "name": "stdout",
     "output_type": "stream",
     "text": [
      "Recommended Videos for User U1: [['V1' 'V1' 'V1' 'V1' 'V1']]\n"
     ]
    }
   ],
   "source": [
    "# Example usage of the recommend_videos function\n",
    "recommended_videos = recommend_videos(user_id='U1')\n",
    "print(\"Recommended Videos for User U1:\", recommended_videos)"
   ]
  },
  {
   "cell_type": "code",
   "execution_count": null,
   "id": "2404b7d7-d325-422b-b23b-73dd330902da",
   "metadata": {},
   "outputs": [],
   "source": []
  }
 ],
 "metadata": {
  "kernelspec": {
   "display_name": "Python 3 (ipykernel)",
   "language": "python",
   "name": "python3"
  },
  "language_info": {
   "codemirror_mode": {
    "name": "ipython",
    "version": 3
   },
   "file_extension": ".py",
   "mimetype": "text/x-python",
   "name": "python",
   "nbconvert_exporter": "python",
   "pygments_lexer": "ipython3",
   "version": "3.8.18"
  }
 },
 "nbformat": 4,
 "nbformat_minor": 5
}
